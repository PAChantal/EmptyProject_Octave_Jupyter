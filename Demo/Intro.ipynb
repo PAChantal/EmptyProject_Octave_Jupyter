{
 "cells": [
  {
   "cell_type": "markdown",
   "metadata": {},
   "source": [
    "# This is a title\n",
    "## This is a subtitle\n",
    "\n",
    "And we can have some latex : $\\sum^N_{i=1} x_i^2$\n",
    "\n",
    "It's work with blocks. This is a text block and next comes octave code block :"
   ]
  },
  {
   "cell_type": "code",
   "execution_count": 3,
   "metadata": {},
   "outputs": [],
   "source": [
    "x = [3 5; 7 8];\n",
    "y = [x ; 4 6]\n"
   ]
  },
  {
   "cell_type": "markdown",
   "metadata": {},
   "source": [
    "Sure it can take some time, but it's an holiday notebook. "
   ]
  },
  {
   "cell_type": "code",
   "execution_count": 2,
   "metadata": {},
   "outputs": [
    {
     "data": {
      "image/svg+xml": [
       "<svg height=\"420px\" viewBox=\"0 0 560 420\" width=\"560px\" xmlns=\"http://www.w3.org/2000/svg\" xmlns:xlink=\"http://www.w3.org/1999/xlink\">\n",
       "\n",
       "<title>Gnuplot</title>\n",
       "<desc>Produced by GNUPLOT 5.2 patchlevel 3 </desc>\n",
       "\n",
       "<g id=\"gnuplot_canvas\">\n",
       "\n",
       "<rect fill=\"#ffffff\" height=\"420\" width=\"560\" x=\"0\" y=\"0\"/>\n",
       "<defs>\n",
       "\n",
       "\t<circle id=\"gpDot\" r=\"0.5\" stroke=\"currentColor\" stroke-width=\"0.5\"/>\n",
       "\t<path d=\"M-1,0 h2 M0,-1 v2\" id=\"gpPt0\" stroke=\"currentColor\" stroke-width=\"0.357\"/>\n",
       "\t<path d=\"M-1,-1 L1,1 M1,-1 L-1,1\" id=\"gpPt1\" stroke=\"currentColor\" stroke-width=\"0.357\"/>\n",
       "\t<path d=\"M-1,0 L1,0 M0,-1 L0,1 M-1,-1 L1,1 M-1,1 L1,-1\" id=\"gpPt2\" stroke=\"currentColor\" stroke-width=\"0.357\"/>\n",
       "\t<rect height=\"2\" id=\"gpPt3\" stroke=\"currentColor\" stroke-width=\"0.357\" width=\"2\" x=\"-1\" y=\"-1\"/>\n",
       "\t<rect fill=\"currentColor\" height=\"2\" id=\"gpPt4\" stroke=\"currentColor\" stroke-width=\"0.357\" width=\"2\" x=\"-1\" y=\"-1\"/>\n",
       "\t<circle cx=\"0\" cy=\"0\" id=\"gpPt5\" r=\"1\" stroke=\"currentColor\" stroke-width=\"0.357\"/>\n",
       "\t<use fill=\"currentColor\" id=\"gpPt6\" stroke=\"none\" xlink:href=\"#gpPt5\"/>\n",
       "\t<path d=\"M0,-1.33 L-1.33,0.67 L1.33,0.67 z\" id=\"gpPt7\" stroke=\"currentColor\" stroke-width=\"0.357\"/>\n",
       "\t<use fill=\"currentColor\" id=\"gpPt8\" stroke=\"none\" xlink:href=\"#gpPt7\"/>\n",
       "\t<use id=\"gpPt9\" stroke=\"currentColor\" transform=\"rotate(180)\" xlink:href=\"#gpPt7\"/>\n",
       "\t<use fill=\"currentColor\" id=\"gpPt10\" stroke=\"none\" xlink:href=\"#gpPt9\"/>\n",
       "\t<use id=\"gpPt11\" stroke=\"currentColor\" transform=\"rotate(45)\" xlink:href=\"#gpPt3\"/>\n",
       "\t<use fill=\"currentColor\" id=\"gpPt12\" stroke=\"none\" xlink:href=\"#gpPt11\"/>\n",
       "\t<path d=\"M0,1.330 L1.265,0.411 L0.782,-1.067 L-0.782,-1.076 L-1.265,0.411 z\" id=\"gpPt13\" stroke=\"currentColor\" stroke-width=\"0.357\"/>\n",
       "\t<use fill=\"currentColor\" id=\"gpPt14\" stroke=\"none\" xlink:href=\"#gpPt13\"/>\n",
       "\t<filter filterUnits=\"objectBoundingBox\" height=\"1\" id=\"textbox\" width=\"1\" x=\"0\" y=\"0\">\n",
       "\t  <feFlood flood-color=\"#FFFFFF\" flood-opacity=\"1\" result=\"bgnd\"/>\n",
       "\t  <feComposite in=\"SourceGraphic\" in2=\"bgnd\" operator=\"atop\"/>\n",
       "\t</filter>\n",
       "\t<filter filterUnits=\"objectBoundingBox\" height=\"1\" id=\"greybox\" width=\"1\" x=\"0\" y=\"0\">\n",
       "\t  <feFlood flood-color=\"lightgrey\" flood-opacity=\"1\" result=\"grey\"/>\n",
       "\t  <feComposite in=\"SourceGraphic\" in2=\"grey\" operator=\"atop\"/>\n",
       "\t</filter>\n",
       "</defs>\n",
       "<g color=\"#FFFFFF\" fill=\"none\" stroke=\"currentColor\" stroke-linecap=\"butt\" stroke-linejoin=\"miter\" stroke-width=\"1.00\">\n",
       "</g>\n",
       "<g color=\"black\" fill=\"none\" stroke=\"currentColor\" stroke-linecap=\"butt\" stroke-linejoin=\"miter\" stroke-width=\"1.00\">\n",
       "\t<g shape-rendering=\"crispEdges\" stroke=\"none\">\n",
       "\t\t<polygon fill=\"rgb(255, 255, 255)\" points=\"45.0,384.2 544.2,384.2 544.2,11.4 45.0,11.4 \"/>\n",
       "\t</g>\n",
       "</g>\n",
       "<g color=\"black\" fill=\"none\" stroke=\"currentColor\" stroke-linecap=\"butt\" stroke-linejoin=\"miter\" stroke-width=\"1.00\">\n",
       "\t<path d=\"M45.0,384.2 L52.8,384.2 M544.3,384.2 L536.5,384.2  \" stroke=\"rgb(  0,   0,   0)\"/>\t<g fill=\"rgb(38,38,38)\" font-family=\"Arial\" font-size=\"10.00\" stroke=\"none\" text-anchor=\"end\" transform=\"translate(39.8,387.5)\">\n",
       "\t\t<text><tspan font-family=\"Arial\">-1</tspan></text>\n",
       "\t</g>\n",
       "</g>\n",
       "<g color=\"black\" fill=\"none\" stroke=\"currentColor\" stroke-linecap=\"butt\" stroke-linejoin=\"miter\" stroke-width=\"1.00\">\n",
       "\t<path d=\"M45.0,291.0 L52.8,291.0 M544.3,291.0 L536.5,291.0  \" stroke=\"rgb(  0,   0,   0)\"/>\t<g fill=\"rgb(38,38,38)\" font-family=\"Arial\" font-size=\"10.00\" stroke=\"none\" text-anchor=\"end\" transform=\"translate(39.8,294.3)\">\n",
       "\t\t<text><tspan font-family=\"Arial\">-0.5</tspan></text>\n",
       "\t</g>\n",
       "</g>\n",
       "<g color=\"black\" fill=\"none\" stroke=\"currentColor\" stroke-linecap=\"butt\" stroke-linejoin=\"miter\" stroke-width=\"1.00\">\n",
       "\t<path d=\"M45.0,197.7 L52.8,197.7 M544.3,197.7 L536.5,197.7  \" stroke=\"rgb(  0,   0,   0)\"/>\t<g fill=\"rgb(38,38,38)\" font-family=\"Arial\" font-size=\"10.00\" stroke=\"none\" text-anchor=\"end\" transform=\"translate(39.8,201.0)\">\n",
       "\t\t<text><tspan font-family=\"Arial\">0</tspan></text>\n",
       "\t</g>\n",
       "</g>\n",
       "<g color=\"black\" fill=\"none\" stroke=\"currentColor\" stroke-linecap=\"butt\" stroke-linejoin=\"miter\" stroke-width=\"1.00\">\n",
       "\t<path d=\"M45.0,104.5 L52.8,104.5 M544.3,104.5 L536.5,104.5  \" stroke=\"rgb(  0,   0,   0)\"/>\t<g fill=\"rgb(38,38,38)\" font-family=\"Arial\" font-size=\"10.00\" stroke=\"none\" text-anchor=\"end\" transform=\"translate(39.8,107.8)\">\n",
       "\t\t<text><tspan font-family=\"Arial\">0.5</tspan></text>\n",
       "\t</g>\n",
       "</g>\n",
       "<g color=\"black\" fill=\"none\" stroke=\"currentColor\" stroke-linecap=\"butt\" stroke-linejoin=\"miter\" stroke-width=\"1.00\">\n",
       "\t<path d=\"M45.0,11.3 L52.8,11.3 M544.3,11.3 L536.5,11.3  \" stroke=\"rgb(  0,   0,   0)\"/>\t<g fill=\"rgb(38,38,38)\" font-family=\"Arial\" font-size=\"10.00\" stroke=\"none\" text-anchor=\"end\" transform=\"translate(39.8,14.6)\">\n",
       "\t\t<text><tspan font-family=\"Arial\">1</tspan></text>\n",
       "\t</g>\n",
       "</g>\n",
       "<g color=\"black\" fill=\"none\" stroke=\"currentColor\" stroke-linecap=\"butt\" stroke-linejoin=\"miter\" stroke-width=\"1.00\">\n",
       "\t<path d=\"M45.0,384.2 L45.0,376.4 M45.0,11.3 L45.0,19.1  \" stroke=\"rgb(  0,   0,   0)\"/>\t<g fill=\"rgb(38,38,38)\" font-family=\"Arial\" font-size=\"10.00\" stroke=\"none\" text-anchor=\"middle\" transform=\"translate(45.0,398.7)\">\n",
       "\t\t<text><tspan font-family=\"Arial\">0</tspan></text>\n",
       "\t</g>\n",
       "</g>\n",
       "<g color=\"black\" fill=\"none\" stroke=\"currentColor\" stroke-linecap=\"butt\" stroke-linejoin=\"miter\" stroke-width=\"1.00\">\n",
       "\t<path d=\"M116.3,384.2 L116.3,376.4 M116.3,11.3 L116.3,19.1  \" stroke=\"rgb(  0,   0,   0)\"/>\t<g fill=\"rgb(38,38,38)\" font-family=\"Arial\" font-size=\"10.00\" stroke=\"none\" text-anchor=\"middle\" transform=\"translate(116.3,398.7)\">\n",
       "\t\t<text><tspan font-family=\"Arial\">1</tspan></text>\n",
       "\t</g>\n",
       "</g>\n",
       "<g color=\"black\" fill=\"none\" stroke=\"currentColor\" stroke-linecap=\"butt\" stroke-linejoin=\"miter\" stroke-width=\"1.00\">\n",
       "\t<path d=\"M187.7,384.2 L187.7,376.4 M187.7,11.3 L187.7,19.1  \" stroke=\"rgb(  0,   0,   0)\"/>\t<g fill=\"rgb(38,38,38)\" font-family=\"Arial\" font-size=\"10.00\" stroke=\"none\" text-anchor=\"middle\" transform=\"translate(187.7,398.7)\">\n",
       "\t\t<text><tspan font-family=\"Arial\">2</tspan></text>\n",
       "\t</g>\n",
       "</g>\n",
       "<g color=\"black\" fill=\"none\" stroke=\"currentColor\" stroke-linecap=\"butt\" stroke-linejoin=\"miter\" stroke-width=\"1.00\">\n",
       "\t<path d=\"M259.0,384.2 L259.0,376.4 M259.0,11.3 L259.0,19.1  \" stroke=\"rgb(  0,   0,   0)\"/>\t<g fill=\"rgb(38,38,38)\" font-family=\"Arial\" font-size=\"10.00\" stroke=\"none\" text-anchor=\"middle\" transform=\"translate(259.0,398.7)\">\n",
       "\t\t<text><tspan font-family=\"Arial\">3</tspan></text>\n",
       "\t</g>\n",
       "</g>\n",
       "<g color=\"black\" fill=\"none\" stroke=\"currentColor\" stroke-linecap=\"butt\" stroke-linejoin=\"miter\" stroke-width=\"1.00\">\n",
       "\t<path d=\"M330.3,384.2 L330.3,376.4 M330.3,11.3 L330.3,19.1  \" stroke=\"rgb(  0,   0,   0)\"/>\t<g fill=\"rgb(38,38,38)\" font-family=\"Arial\" font-size=\"10.00\" stroke=\"none\" text-anchor=\"middle\" transform=\"translate(330.3,398.7)\">\n",
       "\t\t<text><tspan font-family=\"Arial\">4</tspan></text>\n",
       "\t</g>\n",
       "</g>\n",
       "<g color=\"black\" fill=\"none\" stroke=\"currentColor\" stroke-linecap=\"butt\" stroke-linejoin=\"miter\" stroke-width=\"1.00\">\n",
       "\t<path d=\"M401.6,384.2 L401.6,376.4 M401.6,11.3 L401.6,19.1  \" stroke=\"rgb(  0,   0,   0)\"/>\t<g fill=\"rgb(38,38,38)\" font-family=\"Arial\" font-size=\"10.00\" stroke=\"none\" text-anchor=\"middle\" transform=\"translate(401.6,398.7)\">\n",
       "\t\t<text><tspan font-family=\"Arial\">5</tspan></text>\n",
       "\t</g>\n",
       "</g>\n",
       "<g color=\"black\" fill=\"none\" stroke=\"currentColor\" stroke-linecap=\"butt\" stroke-linejoin=\"miter\" stroke-width=\"1.00\">\n",
       "\t<path d=\"M473.0,384.2 L473.0,376.4 M473.0,11.3 L473.0,19.1  \" stroke=\"rgb(  0,   0,   0)\"/>\t<g fill=\"rgb(38,38,38)\" font-family=\"Arial\" font-size=\"10.00\" stroke=\"none\" text-anchor=\"middle\" transform=\"translate(473.0,398.7)\">\n",
       "\t\t<text><tspan font-family=\"Arial\">6</tspan></text>\n",
       "\t</g>\n",
       "</g>\n",
       "<g color=\"black\" fill=\"none\" stroke=\"currentColor\" stroke-linecap=\"butt\" stroke-linejoin=\"miter\" stroke-width=\"1.00\">\n",
       "\t<path d=\"M544.3,384.2 L544.3,376.4 M544.3,11.3 L544.3,19.1  \" stroke=\"rgb(  0,   0,   0)\"/>\t<g fill=\"rgb(38,38,38)\" font-family=\"Arial\" font-size=\"10.00\" stroke=\"none\" text-anchor=\"middle\" transform=\"translate(544.3,398.7)\">\n",
       "\t\t<text><tspan font-family=\"Arial\">7</tspan></text>\n",
       "\t</g>\n",
       "</g>\n",
       "<g color=\"black\" fill=\"none\" stroke=\"currentColor\" stroke-linecap=\"butt\" stroke-linejoin=\"miter\" stroke-width=\"1.00\">\n",
       "</g>\n",
       "<g color=\"black\" fill=\"none\" stroke=\"currentColor\" stroke-linecap=\"butt\" stroke-linejoin=\"miter\" stroke-width=\"1.00\">\n",
       "\t<g fill=\"rgb(38,38,38)\" font-family=\"Arial\" font-size=\"11.00\" stroke=\"none\" text-anchor=\"middle\" transform=\"translate(11.3,197.8) rotate(-90)\">\n",
       "\t\t<text><tspan font-family=\"Arial\">Y axis name</tspan></text>\n",
       "\t</g>\n",
       "</g>\n",
       "<g color=\"black\" fill=\"none\" stroke=\"currentColor\" stroke-linecap=\"butt\" stroke-linejoin=\"miter\" stroke-width=\"1.00\">\n",
       "\t<g fill=\"rgb(38,38,38)\" font-family=\"Arial\" font-size=\"11.00\" stroke=\"none\" text-anchor=\"middle\" transform=\"translate(294.6,415.8)\">\n",
       "\t\t<text><tspan font-family=\"Arial\">X axis name</tspan></text>\n",
       "\t</g>\n",
       "</g>\n",
       "<g color=\"black\" fill=\"none\" stroke=\"currentColor\" stroke-linecap=\"butt\" stroke-linejoin=\"miter\" stroke-width=\"1.00\">\n",
       "</g>\n",
       "<g color=\"black\" fill=\"none\" stroke=\"currentColor\" stroke-linecap=\"butt\" stroke-linejoin=\"miter\" stroke-width=\"1.00\">\n",
       "\t<path d=\"M451.6,32.0 L451.6,16.9 L539.1,16.9 L539.1,32.0 L451.6,32.0 Z  \" stroke=\"black\"/></g>\n",
       "\t<g id=\"gnuplot_plot_1a\"><title>sinus x</title>\n",
       "<g color=\"#FFFFFF\" fill=\"none\" stroke=\"black\" stroke-linecap=\"butt\" stroke-linejoin=\"miter\" stroke-width=\"0.50\">\n",
       "</g>\n",
       "<g color=\"black\" fill=\"none\" stroke=\"currentColor\" stroke-linecap=\"butt\" stroke-linejoin=\"miter\" stroke-width=\"0.50\">\n",
       "\t<g fill=\"rgb(0,0,0)\" font-family=\"Arial\" font-size=\"9.00\" stroke=\"none\" text-anchor=\"start\" transform=\"translate(495.0,27.5)\">\n",
       "\t\t<text><tspan font-family=\"Arial\">sinus x</tspan></text>\n",
       "\t</g>\n",
       "</g>\n",
       "<g color=\"black\" fill=\"none\" stroke=\"currentColor\" stroke-linecap=\"butt\" stroke-linejoin=\"miter\" stroke-width=\"0.50\">\n",
       "\t<path d=\"M457.9,24.5 L488.7,24.5 M45.0,197.7 L49.5,186.0 L54.0,174.4 L58.4,162.8 L62.9,151.4 L67.4,140.1   L71.9,129.1 L76.4,118.4 L80.9,107.9 L85.3,97.8 L89.8,88.2 L94.3,78.9 L98.8,70.1 L103.3,61.8   L107.7,54.1 L112.2,46.9 L116.7,40.3 L121.2,34.4 L125.7,29.0 L130.2,24.4 L134.6,20.4 L139.1,17.2   L143.6,14.6 L148.1,12.8 L152.6,11.7 L157.0,11.3 L161.5,11.7 L166.0,12.8 L170.5,14.6 L175.0,17.2   L179.5,20.4 L183.9,24.4 L188.4,29.0 L192.9,34.4 L197.4,40.3 L201.9,46.9 L206.3,54.1 L210.8,61.8   L215.3,70.1 L219.8,78.9 L224.3,88.2 L228.7,97.8 L233.2,107.9 L237.7,118.4 L242.2,129.1 L246.7,140.1   L251.2,151.4 L255.6,162.8 L260.1,174.4 L264.6,186.0 L269.1,197.8 L273.6,209.5 L278.0,221.1 L282.5,232.7   L287.0,244.1 L291.5,255.4 L296.0,266.4 L300.5,277.1 L304.9,287.6 L309.4,297.7 L313.9,307.3 L318.4,316.6   L322.9,325.4 L327.3,333.7 L331.8,341.4 L336.3,348.6 L340.8,355.2 L345.3,361.1 L349.8,366.5 L354.2,371.1   L358.7,375.1 L363.2,378.3 L367.7,380.9 L372.2,382.7 L376.6,383.8 L381.1,384.2 L385.6,383.8 L390.1,382.7   L394.6,380.9 L399.1,378.3 L403.5,375.1 L408.0,371.1 L412.5,366.5 L417.0,361.1 L421.5,355.2 L425.9,348.6   L430.4,341.4 L434.9,333.7 L439.4,325.4 L443.9,316.6 L448.4,307.3 L452.8,297.7 L457.3,287.6 L461.8,277.1   L466.3,266.4 L470.8,255.4 L475.2,244.1 L479.7,232.7 L484.2,221.1 L488.7,209.5 L493.2,197.8  \" stroke=\"rgb(  0, 114, 189)\"/>\t<use color=\"rgb(  0, 114, 189)\" x=\"473.3\" xlink:href=\"#gpDot\" y=\"24.5\"/>\n",
       "\n",
       "</g>\n",
       "\t</g>\n",
       "<g color=\"#FFFFFF\" fill=\"none\" stroke=\"rgb(  0, 114, 189)\" stroke-linecap=\"butt\" stroke-linejoin=\"miter\" stroke-width=\"2.00\">\n",
       "</g>\n",
       "<g color=\"black\" fill=\"none\" stroke=\"currentColor\" stroke-linecap=\"butt\" stroke-linejoin=\"miter\" stroke-width=\"2.00\">\n",
       "</g>\n",
       "<g color=\"black\" fill=\"none\" stroke=\"black\" stroke-linecap=\"butt\" stroke-linejoin=\"miter\" stroke-width=\"0.50\">\n",
       "\t<path d=\"M45.0,384.2 L544.3,384.2 M45.0,11.3 L544.3,11.3 M45.0,384.2 L45.0,11.3 M544.3,384.2 L544.3,11.3    \" stroke=\"rgb( 38,  38,  38)\"/></g>\n",
       "<g color=\"black\" fill=\"none\" stroke=\"rgb( 38,  38,  38)\" stroke-linecap=\"butt\" stroke-linejoin=\"miter\" stroke-width=\"1.00\">\n",
       "</g>\n",
       "<g color=\"black\" fill=\"none\" stroke=\"currentColor\" stroke-linecap=\"butt\" stroke-linejoin=\"miter\" stroke-width=\"1.00\">\n",
       "</g>\n",
       "</g>\n",
       "</svg>"
      ],
      "text/plain": [
       "<IPython.core.display.SVG object>"
      ]
     },
     "metadata": {},
     "output_type": "display_data"
    }
   ],
   "source": [
    "x = 0:2*pi/100:2*pi;\n",
    "plot(x,sin(x))\n",
    "xlabel('X axis name')\n",
    "ylabel('Y axis name')\n",
    "legend('sinus x')"
   ]
  },
  {
   "cell_type": "markdown",
   "metadata": {},
   "source": [
    "It cannot be modified by students and run totaly in a virtual plateform : it's a jupyter octave notebook stores in a Github platform and host in a virtual debian machines thanks to mybinder. \n",
    "\n",
    "So what do you think ?"
   ]
  }
 ],
 "metadata": {
  "kernelspec": {
   "display_name": "Octave",
   "language": "octave",
   "name": "octave"
  },
  "language_info": {
   "file_extension": ".m",
   "help_links": [
    {
     "text": "GNU Octave",
     "url": "https://www.gnu.org/software/octave/support.html"
    },
    {
     "text": "Octave Kernel",
     "url": "https://github.com/Calysto/octave_kernel"
    },
    {
     "text": "MetaKernel Magics",
     "url": "https://github.com/calysto/metakernel/blob/master/metakernel/magics/README.md"
    }
   ],
   "mimetype": "text/x-octave",
   "name": "octave",
   "version": "4.4.0"
  }
 },
 "nbformat": 4,
 "nbformat_minor": 2
}
